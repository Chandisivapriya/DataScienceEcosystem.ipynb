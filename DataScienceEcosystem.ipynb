{
 "cells": [
  {
   "cell_type": "markdown",
   "id": "4b0258ab-fcd2-42bc-aa73-680ecf79b5c5",
   "metadata": {
    "tags": []
   },
   "source": [
    " # Data Science Tools and Ecosystem"
   ]
  },
  {
   "cell_type": "markdown",
   "id": "4f65a393-957d-4156-8b88-9bacba56cf5f",
   "metadata": {},
   "source": [
    "## In this notebook, Data Science Tools and Ecosystem are summarized."
   ]
  },
  {
   "cell_type": "markdown",
   "id": "18830204-c342-4ca5-a696-e2f2399ec6fb",
   "metadata": {},
   "source": [
    "# Some of the popular languages that Data Scientists use are:\n",
    "1. Python\n",
    "2. R\n",
    "3. SQL\n",
    "4. Java\n",
    "5. Scala\n",
    "6. C++\n",
    "7. Javascript\n",
    "8. Php\n",
    "9. Go\n",
    "10. Ruby\n",
    "11. Visual Basic\n",
    "12. Julia"
   ]
  },
  {
   "cell_type": "markdown",
   "id": "fe6a5f11-0044-4dcb-a0e4-3f89f500adec",
   "metadata": {},
   "source": [
    "## Some of the commonly used libraries used by Data Scientists include:\n",
    "1. Pandas\n",
    "2. Numpy\n",
    "3. Scikit-learn\n",
    "4. Matplotlib\n",
    "5. Seaborn\n",
    "6. keras\n",
    "7. Tenserflow\n",
    "8. PyTorch\n",
    "9. Apache Spark\n",
    "10. Vegas\n",
    "11. Big DL\n",
    "12. Ggplot2"
   ]
  },
  {
   "cell_type": "markdown",
   "id": "f5a730eb-75bf-4ff9-8feb-42559c4d1990",
   "metadata": {},
   "source": [
    "|Data Science Tools | \n",
    "|-------------------|\n",
    "| Anaconda          |\n",
    "| Jupyter Notebooks |\n",
    "| R studio          |\n",
    "| Spider            |\n",
    "| Zeppelin          |"
   ]
  },
  {
   "cell_type": "markdown",
   "id": "3d24be38-b181-4610-a2c5-6497a0abdbc9",
   "metadata": {},
   "source": [
    "###  Below are a few examples of evaluating arithmetic expressions in Python."
   ]
  },
  {
   "cell_type": "markdown",
   "id": "73bb5e53-3d66-47af-a658-2fc0e431c296",
   "metadata": {
    "tags": []
   },
   "source": [
    "#Addition\n",
    "print(5+3)\n",
    "\n",
    "#Subtraction\n",
    "print(5 -3)\n",
    "\n",
    "#Multiplication\n",
    "print(5 * 3)\n",
    "\n",
    "#Division\n",
    "print(5/3)\n",
    "\n",
    "#Exponentiation\n",
    "print(5 ** 3)\n",
    "\n",
    "#Modulo %\n",
    "print(5 % 3)\n",
    "\n",
    "#Floor division //\n",
    "print(5 // 3)"
   ]
  },
  {
   "cell_type": "code",
   "execution_count": 2,
   "id": "3d1bc4a3-208a-46ae-849a-3a3253bdc811",
   "metadata": {
    "tags": []
   },
   "outputs": [
    {
     "data": {
      "text/plain": [
       "17"
      ]
     },
     "execution_count": 2,
     "metadata": {},
     "output_type": "execute_result"
    }
   ],
   "source": [
    "(3*4)+5\n",
    "\n",
    "# This a simple arithmetic expression to mutiply then add integers"
   ]
  },
  {
   "cell_type": "markdown",
   "id": "fd561a70-d4af-4edc-9554-5885f9f42311",
   "metadata": {
    "tags": []
   },
   "source": [
    "200 / 60\n",
    "\n",
    "#This will convert 200 minutes to hours by dividing by 60"
   ]
  },
  {
   "cell_type": "markdown",
   "id": "403d08eb-4902-4020-a49f-ad82069571ad",
   "metadata": {},
   "source": [
    "**Objectives: ** \n",
    "  + Add Comments to code cells\n",
    "  + Create Markdown cells\n",
    "  + Add Ordered and Unordered lists to markdown cells\n",
    "  + Format Content of Markdown cells with heading styles\n"
   ]
  },
  {
   "cell_type": "markdown",
   "id": "1e37ab93-6123-493e-81d7-24df7f5bc4d6",
   "metadata": {},
   "source": [
    "* List popular languages for Data Science\n",
    "\n",
    " + Python\n",
    " + R\n",
    " + SQL\n",
    " + Julia\n",
    " + C++\n",
    " + Java\n",
    "                        \n",
    "                    *Commonly used libraries used by Data Scientists include:\n",
    "                        - Pandas\n",
    "                        - Numpy \n",
    "                        - Scikit-learn\n",
    "                        - Matplotlib\n",
    "                        - Seaborn\n",
    "\n",
    "                                   *Key Topics Covered in Data Science Courses:\n",
    "                                           - Programming\n",
    "                                           - Machine learning and AI\n",
    "                                           - Data Visualization \n",
    "                                           - Statistical Concepts\n",
    "                                           - Mathematical Foundations\n",
    "\n",
    "                                                *Why is Data Science Important? \n",
    "                                                - Data volume. \n",
    "                                                - Value-creation. \n",
    "                                                - Career options.\n",
    "\n",
    "                                                                             *Data visualization\n",
    "                                                                               + Understanding Data Visualization Course \n",
    "                                                                               + Data Visualization with Python Skill Track \n",
    "                                                                               + Data Visualization with R Skill Track \n",
    "                                                                               + Data Visualization Cheat Sheet\n",
    "\n",
    "                   *Machine learning \n",
    "                        + Understanding Machine Learning Course\n",
    "                        + Machine Learning Fundamentals with Python Skill Track \n",
    "                        + Machine Learning Scientist with Python Career Track \n",
    "                        + What is Machine Learning?\n",
    "\n",
    "                                                                   *Business intelligence tools \n",
    "                                                                         + Tableau Fundamentals Skill Track\n",
    "                                                                         + Introduction to Power BI Course\n",
    "                                                                         + Power BI vs Tableau: Which Should You Choose in 2023?\n",
    "                                                                         + Power BI Cheat Sheet\n",
    "                                                                         + Tableau Cheat Sheet\n",
    "\n",
    "                      *Machine learning libraries\n",
    "                        + Machine Learning Fundamentals with Python \n",
    "                        + What is Machine Learning? Blog Post\n",
    "                        + Introduction to Machine Learning in Python Tutorial \n",
    "                        + Machine Learning with scikit-learn Course\n",
    "                        + Introduction to TensorFlow in Python Course\n",
    "\n"
   ]
  },
  {
   "cell_type": "markdown",
   "id": "05373345-e1d4-4774-ab21-eacb8452e540",
   "metadata": {},
   "source": [
    "## Author\n",
    "Chandisivapriya"
   ]
  },
  {
   "cell_type": "code",
   "execution_count": null,
   "id": "5f2d9996-894f-417a-af02-56750e074641",
   "metadata": {},
   "outputs": [],
   "source": []
  }
 ],
 "metadata": {
  "kernelspec": {
   "display_name": "Python",
   "language": "python",
   "name": "conda-env-python-py"
  },
  "language_info": {
   "codemirror_mode": {
    "name": "ipython",
    "version": 3
   },
   "file_extension": ".py",
   "mimetype": "text/x-python",
   "name": "python",
   "nbconvert_exporter": "python",
   "pygments_lexer": "ipython3",
   "version": "3.7.12"
  }
 },
 "nbformat": 4,
 "nbformat_minor": 5
}
